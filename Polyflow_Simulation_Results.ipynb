{
  "nbformat": 4,
  "nbformat_minor": 0,
  "metadata": {
    "colab": {
      "name": "Polyflow_Simulation_Results.ipynb",
      "provenance": [],
      "authorship_tag": "ABX9TyOEyxRJzgVOuO2Ov98hcFfU"
    },
    "kernelspec": {
      "name": "python3",
      "display_name": "Python 3"
    },
    "language_info": {
      "name": "python"
    }
  },
  "cells": [
    {
      "cell_type": "markdown",
      "source": [
        "## Ansys Polyflow Blow Molding Simulation Results"
      ],
      "metadata": {
        "id": "hXpbijqfU43x"
      }
    },
    {
      "cell_type": "markdown",
      "source": [
        "### Colab Adjustments"
      ],
      "metadata": {
        "id": "p-AwGChGVTFB"
      }
    },
    {
      "cell_type": "code",
      "execution_count": 1,
      "metadata": {
        "id": "0M4GEvnmObeb",
        "colab": {
          "base_uri": "https://localhost:8080/"
        },
        "outputId": "33a128be-ecd6-40f8-94e1-cb2b85b2bdec"
      },
      "outputs": [
        {
          "output_type": "stream",
          "name": "stdout",
          "text": [
            "Mounted at /content/gdrive\n"
          ]
        }
      ],
      "source": [
        "from google.colab import drive\n",
        "drive.mount('/content/gdrive')"
      ]
    },
    {
      "cell_type": "code",
      "source": [
        "%cd /content/gdrive/MyDrive/Python_Projects/Optimization_of_Parison_Thickness"
      ],
      "metadata": {
        "colab": {
          "base_uri": "https://localhost:8080/"
        },
        "id": "RRnGwlDUUacS",
        "outputId": "cda655da-5869-49bc-f0be-d57dbcc40578"
      },
      "execution_count": 2,
      "outputs": [
        {
          "output_type": "stream",
          "name": "stdout",
          "text": [
            "/content/gdrive/MyDrive/Python_Projects/Optimization_of_Parison_Thickness\n"
          ]
        }
      ]
    },
    {
      "cell_type": "markdown",
      "source": [
        "### Importing Packages"
      ],
      "metadata": {
        "id": "DxZ5pp3SVnRU"
      }
    },
    {
      "cell_type": "code",
      "source": [
        "import pandas as pd\n",
        "import numpy as np\n",
        "import sympy as sp\n",
        "import math\n",
        "import matplotlib as mpl\n",
        "import matplotlib.pyplot as plt\n",
        "from matplotlib.ticker import MaxNLocator\n",
        "\n",
        "%matplotlib inline"
      ],
      "metadata": {
        "id": "nMbdYhGvVraR"
      },
      "execution_count": 3,
      "outputs": []
    },
    {
      "cell_type": "markdown",
      "source": [
        "### Loading Results"
      ],
      "metadata": {
        "id": "idESrFg-XDcO"
      }
    },
    {
      "cell_type": "code",
      "source": [
        "first_start = pd.read_csv(\"Ansys-Polyflow-Results/1st_iteration_start.csv\")\n",
        "first_final = pd.read_csv(\"Ansys-Polyflow-Results/1st_iteration_final.csv\")"
      ],
      "metadata": {
        "id": "Y1ljhNSSXI60"
      },
      "execution_count": 4,
      "outputs": []
    },
    {
      "cell_type": "code",
      "source": [
        "second_start = pd.read_csv(\"Ansys-Polyflow-Results/2nd_iteration_start.csv\")\n",
        "second_final = pd.read_csv(\"Ansys-Polyflow-Results/2nd_iteration_final.csv\")"
      ],
      "metadata": {
        "id": "5_XyJSsuicm1"
      },
      "execution_count": 5,
      "outputs": []
    },
    {
      "cell_type": "code",
      "source": [
        "third_start = pd.read_csv(\"Ansys-Polyflow-Results/3rd_iteration_start.csv\")\n",
        "third_final = pd.read_csv(\"Ansys-Polyflow-Results/3rd_iteration_final.csv\")"
      ],
      "metadata": {
        "id": "z90s9HKeic40"
      },
      "execution_count": 6,
      "outputs": []
    },
    {
      "cell_type": "code",
      "source": [
        "fourth_start = pd.read_csv(\"Ansys-Polyflow-Results/4th_iteration_start.csv\")\n",
        "fourth_final = pd.read_csv(\"Ansys-Polyflow-Results/4th_iteration_final.csv\")"
      ],
      "metadata": {
        "id": "l2_MM5feidRz"
      },
      "execution_count": 7,
      "outputs": []
    },
    {
      "cell_type": "markdown",
      "source": [
        "### Comparing Parison Thicknesses of Iterations"
      ],
      "metadata": {
        "id": "J3o580jZOYeY"
      }
    },
    {
      "cell_type": "code",
      "source": [
        "def average_thickness(dataframe):\n",
        "  thickness = dataframe[' THICKNESS [ m ]'].to_numpy()\n",
        "  average_thickness = float(np.average(thickness))\n",
        "  return average_thickness"
      ],
      "metadata": {
        "id": "fDqyHFrDjRfN"
      },
      "execution_count": 8,
      "outputs": []
    },
    {
      "cell_type": "code",
      "source": [
        "average_thicknesses =  [average_thickness(first_start), average_thickness(second_start), \\\n",
        "                        average_thickness(third_start), average_thickness(fourth_start)]"
      ],
      "metadata": {
        "id": "_gsFjP6Kx5L1"
      },
      "execution_count": 9,
      "outputs": []
    },
    {
      "cell_type": "code",
      "source": [
        "# Create figure and add axes object\n",
        "mpl.style.use('default')\n",
        "\n",
        "fig = plt.figure(figsize=(4, 3))\n",
        "mpl.rcParams['font.family'] = 'DejaVu Sans'\n",
        "plt.rcParams['font.size'] = 10\n",
        "plt.rcParams['axes.linewidth'] = 1.5\n",
        "plt.rcParams[\"figure.autolayout\"] = True\n",
        "\n",
        "ax = fig.add_axes([0,0,1,1])\n",
        "ax.set_ylim(0.0024, 0.0032)\n",
        "\n",
        "ax.xaxis.set_tick_params(which='major', size=4, width=1, direction='in')\n",
        "ax.yaxis.set_tick_params(which='major', size=4, width=1, direction='in')\n",
        "\n",
        "ax.set_xlabel('Number of Iterations')\n",
        "ax.set_ylabel('Average Thickness (m)')\n",
        "ax.plot(range(1,5,1), average_thicknesses, color='blue', linewidth=1.5)\n",
        "ax.set_xticks(range(1,5,1))\n",
        "fig.show()"
      ],
      "metadata": {
        "colab": {
          "base_uri": "https://localhost:8080/",
          "height": 380
        },
        "id": "do2DobyZybDv",
        "outputId": "73d1470a-a2e2-4888-824c-db05ce4ea869"
      },
      "execution_count": 10,
      "outputs": [
        {
          "output_type": "display_data",
          "data": {
            "text/plain": [
              "<Figure size 400x300 with 1 Axes>"
            ],
            "image/png": "[encoded data removed]"
          },
          "metadata": {}
        }
      ]
    },
    {
      "cell_type": "markdown",
      "source": [
        "### Parison Thickness Distribution"
      ],
      "metadata": {
        "id": "haySrP_m6fJm"
      }
    },
    {
      "cell_type": "code",
      "source": [
        "first_iteration = np.sort(first_final[' THICKNESS [ m ]'].to_numpy()*1000)\n",
        "second_iteration = np.sort(second_final[' THICKNESS [ m ]'].to_numpy()*1000)\n",
        "third_iteration = np.sort(third_final[' THICKNESS [ m ]'].to_numpy()*1000)\n",
        "fourth_iteration = np.sort(fourth_final[' THICKNESS [ m ]'].to_numpy()*1000)"
      ],
      "metadata": {
        "id": "yffrGukuciuI"
      },
      "execution_count": 11,
      "outputs": []
    },
    {
      "cell_type": "code",
      "source": [
        "# Create figure and add axes object\n",
        "mpl.style.use('default')\n",
        "\n",
        "fig = plt.figure(figsize=(4, 3))\n",
        "mpl.rcParams['font.family'] = 'DejaVu Sans'\n",
        "plt.rcParams['font.size'] = 10\n",
        "plt.rcParams['axes.linewidth'] = 1.5\n",
        "plt.rcParams[\"figure.autolayout\"] = True\n",
        "\n",
        "ax = fig.add_axes([0,0,1,1])\n",
        "ax.set_xlim(1, 4)\n",
        "ax.set_ylim(0, 600)\n",
        "\n",
        "\n",
        "ax.xaxis.set_tick_params(which='major', size=4, width=1, direction='in')\n",
        "ax.yaxis.set_tick_params(which='major', size=4, width=1, direction='in')\n",
        "\n",
        "ax.set_xlabel('Thickness (mm)')\n",
        "ax.set_ylabel('Distribution')\n",
        "bins = np.arange(1,6,0.15)\n",
        "ax.hist(first_iteration, color='blue', bins=bins, label='$1^{st}$ iteration', linewidth=1.5)\n",
        "plt.legend(loc='upper right', prop={'size': 9})\n",
        "\n",
        "fig.show()"
      ],
      "metadata": {
        "colab": {
          "base_uri": "https://localhost:8080/",
          "height": 380
        },
        "id": "mb8fm_b2sFbW",
        "outputId": "9c377737-b784-4e04-af65-849000873890"
      },
      "execution_count": 12,
      "outputs": [
        {
          "output_type": "display_data",
          "data": {
            "text/plain": [
              "<Figure size 400x300 with 1 Axes>"
            ],
            "image/png": "[encoded data removed]"
          },
          "metadata": {}
        }
      ]
    },
    {
      "cell_type": "code",
      "source": [
        "# Create figure and add axes object\n",
        "mpl.style.use('default')\n",
        "\n",
        "fig = plt.figure(figsize=(4, 3))\n",
        "mpl.rcParams['font.family'] = 'DejaVu Sans'\n",
        "plt.rcParams['font.size'] = 10\n",
        "plt.rcParams['axes.linewidth'] = 1.5\n",
        "plt.rcParams[\"figure.autolayout\"] = True\n",
        "\n",
        "ax = fig.add_axes([0,0,1,1])\n",
        "ax.set_xlim(1, 4)\n",
        "ax.set_ylim(0, 600)\n",
        "\n",
        "ax.xaxis.set_tick_params(which='major', size=4, width=1, direction='in')\n",
        "ax.yaxis.set_tick_params(which='major', size=4, width=1, direction='in')\n",
        "\n",
        "ax.set_xlabel('Thickness (mm)')\n",
        "ax.set_ylabel('Distribution')\n",
        "bins = np.arange(1,6,0.15)\n",
        "ax.hist(first_iteration, color='blue', bins=bins, label='$1^{st}$ iteration', linewidth=1.5)\n",
        "ax.hist(third_iteration, color='green', bins=bins, label='$4^{th}$ iteration', linewidth=1.5)\n",
        "plt.legend(loc='upper right', prop={'size': 9})\n",
        "fig.show()"
      ],
      "metadata": {
        "colab": {
          "base_uri": "https://localhost:8080/",
          "height": 380
        },
        "id": "oJ5Lw1j9uoie",
        "outputId": "bc5cba92-d548-4a4d-ab78-5cebb679f44f"
      },
      "execution_count": 13,
      "outputs": [
        {
          "output_type": "display_data",
          "data": {
            "text/plain": [
              "<Figure size 400x300 with 1 Axes>"
            ],
            "image/png": "[encoded data removed]"
          },
          "metadata": {}
        }
      ]
    },
    {
      "cell_type": "markdown",
      "source": [
        "### Improvement in Raw Material Use"
      ],
      "metadata": {
        "id": "7rTtryhR7dVt"
      }
    },
    {
      "cell_type": "code",
      "source": [
        "parison_area = np.sum(fourth_start[' Area [ m^2 ]'].to_numpy())# in m2"
      ],
      "metadata": {
        "id": "aYMn3y2-8MNS"
      },
      "execution_count": 14,
      "outputs": []
    },
    {
      "cell_type": "code",
      "source": [
        "first_iteration_thickness = average_thickness(first_start) # in meters"
      ],
      "metadata": {
        "id": "P2xLmUeH8uIQ"
      },
      "execution_count": 15,
      "outputs": []
    },
    {
      "cell_type": "code",
      "source": [
        "fourth_iteration_thickness = average_thickness(fourth_start)# in meters"
      ],
      "metadata": {
        "id": "s5og9YZN88xF"
      },
      "execution_count": 16,
      "outputs": []
    },
    {
      "cell_type": "markdown",
      "source": [
        "Raw material usage in the first iteration before parison thickness optimization"
      ],
      "metadata": {
        "id": "etXB1cWO9NpY"
      }
    },
    {
      "cell_type": "code",
      "source": [
        "first_volume = parison_area*first_iteration_thickness"
      ],
      "metadata": {
        "id": "cKom913G8eTC"
      },
      "execution_count": 17,
      "outputs": []
    },
    {
      "cell_type": "code",
      "source": [
        "density = 900 #kg/m^3"
      ],
      "metadata": {
        "id": "NFu0TE79-E_W"
      },
      "execution_count": 18,
      "outputs": []
    },
    {
      "cell_type": "code",
      "source": [
        "first_weight = density * first_volume"
      ],
      "metadata": {
        "id": "kFT1fL_W-KO1"
      },
      "execution_count": 19,
      "outputs": []
    },
    {
      "cell_type": "code",
      "source": [
        "print('Raw material usage before the parison proggraming: {:.3f} kg'.format(first_weight))"
      ],
      "metadata": {
        "colab": {
          "base_uri": "https://localhost:8080/"
        },
        "id": "kzTBAGgs-VAL",
        "outputId": "d55b19e9-d1cd-447e-9e1a-a1f8122c45ec"
      },
      "execution_count": 20,
      "outputs": [
        {
          "output_type": "stream",
          "name": "stdout",
          "text": [
            "Raw material usage before the parison proggraming: 0.015 kg\n"
          ]
        }
      ]
    },
    {
      "cell_type": "markdown",
      "source": [
        "Raw material usage in the first iteration before parison thickness optimization"
      ],
      "metadata": {
        "id": "gtFm-aot_CeT"
      }
    },
    {
      "cell_type": "code",
      "source": [
        "fourth_volume = parison_area*fourth_iteration_thickness"
      ],
      "metadata": {
        "id": "vwrYnuSy_CeU"
      },
      "execution_count": 21,
      "outputs": []
    },
    {
      "cell_type": "code",
      "source": [
        "fourth_weight = density * fourth_volume"
      ],
      "metadata": {
        "id": "OKPUXhnG_CeV"
      },
      "execution_count": 22,
      "outputs": []
    },
    {
      "cell_type": "code",
      "source": [
        "print('Raw material usage before the parison proggraming: {:.3f} kg'.format(fourth_weight))"
      ],
      "metadata": {
        "outputId": "5ebd431a-1f3f-45a5-9ad7-93b6f9b4f96d",
        "colab": {
          "base_uri": "https://localhost:8080/"
        },
        "id": "avrspiU__CeV"
      },
      "execution_count": 23,
      "outputs": [
        {
          "output_type": "stream",
          "name": "stdout",
          "text": [
            "Raw material usage before the parison proggraming: 0.013 kg\n"
          ]
        }
      ]
    },
    {
      "cell_type": "code",
      "source": [
        "raw_material_improvement = (1 - fourth_weight/first_weight)*100"
      ],
      "metadata": {
        "id": "7UJ660Z-_dtk"
      },
      "execution_count": 24,
      "outputs": []
    },
    {
      "cell_type": "code",
      "source": [
        "print('After the parison thickness optimization, raw material usage is decreased by {:.3f} %'.format(raw_material_improvement ))"
      ],
      "metadata": {
        "colab": {
          "base_uri": "https://localhost:8080/"
        },
        "id": "73B3uitr_2eu",
        "outputId": "df0df335-dccf-4b39-b526-36a87e35ae8a"
      },
      "execution_count": 25,
      "outputs": [
        {
          "output_type": "stream",
          "name": "stdout",
          "text": [
            "After the parison thickness optimization, raw material usage is decreased by 12.706 %\n"
          ]
        }
      ]
    }
  ]
}